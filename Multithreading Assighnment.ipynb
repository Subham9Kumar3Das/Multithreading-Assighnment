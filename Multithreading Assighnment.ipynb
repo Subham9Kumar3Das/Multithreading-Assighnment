{
 "cells": [
  {
   "cell_type": "markdown",
   "id": "18a5428e-2d5b-405e-a980-aece4212946f",
   "metadata": {},
   "source": [
    "### 1. What is multithreading in python? hy is it used? Name the module used to handle threads in python."
   ]
  },
  {
   "cell_type": "markdown",
   "id": "aa0fb016-b32a-4219-9efe-c08ea897ce5c",
   "metadata": {},
   "source": [
    "Multithreading in Python refers to the ability of a program to execute multiple threads concurrently within a single process.It is used to execute multiple threads concurrently within a single process.The module used to handle threads in python is threading."
   ]
  },
  {
   "cell_type": "markdown",
   "id": "0031b5fe-d2e5-4ee5-8161-2e50cd64e813",
   "metadata": {},
   "source": [
    "### 2.Why threading module used? Write the use of the following functions\n",
    "* i)activeCount()\n",
    "* ii)currentThread()\n",
    "* iii)enumerate()"
   ]
  },
  {
   "cell_type": "markdown",
   "id": "ada6c0cd-622a-4ff1-9f88-1aefff930279",
   "metadata": {},
   "source": [
    "* i) It returns the current number of active threads in the current thread's thread group.\n",
    "* ii) It returns the Thread object representing the current thread of execution. \n",
    "* iii) It returns a list of all Thread objects currently active in the current thread's thread group."
   ]
  },
  {
   "cell_type": "markdown",
   "id": "b8ad7d30-10a8-43af-a953-5fbc38856476",
   "metadata": {},
   "source": [
    "### 3. Explain the following functions\n",
    "* i)run()\n",
    "* ii)start()\n",
    "* iii)join()\n",
    "* iv)isAlive()"
   ]
  },
  {
   "cell_type": "markdown",
   "id": "dc2fa8af-1df7-427d-b666-61973e89dc23",
   "metadata": {},
   "source": [
    "* i)It defines the behavior that will be executed within the thread when it is started.\n",
    "* ii)It is used to start the execution of the thread by invoking the run() method.\n",
    "* iii)This method is used to wait for a thread to complete its execution before continuing with the rest of the program.\n",
    "* iv)This method is used to check whether a thread is currently executing or still active."
   ]
  },
  {
   "cell_type": "markdown",
   "id": "fe58a2ad-9118-4ffc-b34c-7cdc410bb529",
   "metadata": {},
   "source": [
    "### 4. Write a python program to create two threads. Thread one must print the list of squares and thread two must print the list of cubes"
   ]
  },
  {
   "cell_type": "code",
   "execution_count": 15,
   "id": "3866eb51-7c42-4abf-bd2b-8080ef75997c",
   "metadata": {},
   "outputs": [],
   "source": [
    "import threading"
   ]
  },
  {
   "cell_type": "code",
   "execution_count": 16,
   "id": "dbbea7b6-d072-47fe-8735-8b0d5f2bb58c",
   "metadata": {},
   "outputs": [],
   "source": [
    "def squares(sq):\n",
    "    print(sq**2)"
   ]
  },
  {
   "cell_type": "code",
   "execution_count": 17,
   "id": "62166b91-01cb-404a-9d4a-0bbd5f5f3e3a",
   "metadata": {},
   "outputs": [],
   "source": [
    "def cubes(cu):\n",
    "    print(cu**3)"
   ]
  },
  {
   "cell_type": "code",
   "execution_count": 18,
   "id": "9cb46b18-9dd8-427b-a018-2c56635124f7",
   "metadata": {},
   "outputs": [],
   "source": [
    "thread_squares=[threading.Thread(target=squares,args=(i,)) for i in range(1,11)]\n",
    "thread_cubes=[threading.Thread(target=cubes,args=(i,)) for i in range(1,11)]"
   ]
  },
  {
   "cell_type": "code",
   "execution_count": 19,
   "id": "21ffb9f9-ffd4-49da-a96f-a1f5cea9e1de",
   "metadata": {},
   "outputs": [
    {
     "name": "stdout",
     "output_type": "stream",
     "text": [
      "Squares= [<Thread(Thread-45 (squares), initial)>, <Thread(Thread-46 (squares), initial)>, <Thread(Thread-47 (squares), initial)>, <Thread(Thread-48 (squares), initial)>, <Thread(Thread-49 (squares), initial)>, <Thread(Thread-50 (squares), initial)>, <Thread(Thread-51 (squares), initial)>, <Thread(Thread-52 (squares), initial)>, <Thread(Thread-53 (squares), initial)>, <Thread(Thread-54 (squares), initial)>]     Cubes= [<Thread(Thread-55 (cubes), initial)>, <Thread(Thread-56 (cubes), initial)>, <Thread(Thread-57 (cubes), initial)>, <Thread(Thread-58 (cubes), initial)>, <Thread(Thread-59 (cubes), initial)>, <Thread(Thread-60 (cubes), initial)>, <Thread(Thread-61 (cubes), initial)>, <Thread(Thread-62 (cubes), initial)>, <Thread(Thread-63 (cubes), initial)>, <Thread(Thread-64 (cubes), initial)>]\n"
     ]
    }
   ],
   "source": [
    "print(\"Squares=\",thread_squares,\"   \",\"Cubes=\",thread_cubes)"
   ]
  },
  {
   "cell_type": "code",
   "execution_count": 21,
   "id": "6daeca5d-ec61-45c8-b66e-0e02978faed3",
   "metadata": {},
   "outputs": [
    {
     "name": "stdout",
     "output_type": "stream",
     "text": [
      "1\n",
      "4\n",
      "9\n",
      "16\n",
      "25\n",
      "36\n",
      "49\n",
      "64\n",
      "81\n",
      "100\n"
     ]
    }
   ],
   "source": [
    "for j in thread_squares:\n",
    "    j.start()"
   ]
  },
  {
   "cell_type": "code",
   "execution_count": 22,
   "id": "1bb9bec6-19a9-4e51-ab2a-0fdf93b52a24",
   "metadata": {},
   "outputs": [
    {
     "name": "stdout",
     "output_type": "stream",
     "text": [
      "1\n",
      "8\n",
      "27\n",
      "64\n",
      "125\n",
      "216\n",
      "343\n",
      "512\n",
      "729\n",
      "1000\n"
     ]
    }
   ],
   "source": [
    "for j in thread_cubes:\n",
    "    j.start()"
   ]
  },
  {
   "cell_type": "markdown",
   "id": "2e10c980-ea62-4ff5-b364-74693951dbb1",
   "metadata": {},
   "source": [
    "### 6. State advantages and disadvantages of multithreading"
   ]
  },
  {
   "cell_type": "markdown",
   "id": "f65e2e67-e948-4afe-839b-5f8062a3591c",
   "metadata": {},
   "source": [
    "* Advantages:-\n",
    "  * Multithreading makes programs run faster.\n",
    "  * It allows multiple tasks to share memory, reducing memory usage compared to separate tasks.\n",
    "  * It's great for tasks like reading/writing files or dealing with the internet, as other tasks can continue while waiting for I/O operations to finish.\n",
    "  * Multithreading helps break complex tasks into smaller, manageable parts, making the program easier to work with.\n",
    "  \n",
    "  \n",
    "* Disadvantages\n",
    "  * It can be more complex to write and manage multithreaded programs due to synchronization and potential issues like deadlocks.\n",
    "  * Finding and fixing bugs in multithreaded programs can be difficult and challenging.\n",
    "  * Sometimes, the overhead of managing threads can outweigh the benefits of concurrency.\n",
    "  * As the number of threads increases, managing them and ensuring they work efficiently becomes more challenging."
   ]
  },
  {
   "cell_type": "markdown",
   "id": "7dd7772e-48b0-4e19-bca0-39f82d3e70c3",
   "metadata": {},
   "source": [
    "### 7. Explain deadlocks and race conditions."
   ]
  },
  {
   "cell_type": "markdown",
   "id": "1dfc9d2a-5a2b-4029-824f-a48921a42576",
   "metadata": {},
   "source": [
    "* Deadlock:-\n",
    "  * The threads get stuck in a circular dependency, and none of them can continue their work.\n",
    "* Race:-\n"
   ]
  }
 ],
 "metadata": {
  "kernelspec": {
   "display_name": "Python 3 (ipykernel)",
   "language": "python",
   "name": "python3"
  },
  "language_info": {
   "codemirror_mode": {
    "name": "ipython",
    "version": 3
   },
   "file_extension": ".py",
   "mimetype": "text/x-python",
   "name": "python",
   "nbconvert_exporter": "python",
   "pygments_lexer": "ipython3",
   "version": "3.10.8"
  }
 },
 "nbformat": 4,
 "nbformat_minor": 5
}
